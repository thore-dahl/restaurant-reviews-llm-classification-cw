{
 "cells": [
  {
   "cell_type": "code",
   "execution_count": 1,
   "metadata": {},
   "outputs": [
    {
     "name": "stderr",
     "output_type": "stream",
     "text": [
      "2023-12-20 18:11:50.655383: I tensorflow/core/platform/cpu_feature_guard.cc:182] This TensorFlow binary is optimized to use available CPU instructions in performance-critical operations.\n",
      "To enable the following instructions: AVX2 FMA, in other operations, rebuild TensorFlow with the appropriate compiler flags.\n"
     ]
    }
   ],
   "source": [
    "from sentiment_modules import compute_metrics, dataset, sentiment\n",
    "from sklearn.model_selection import train_test_split\n",
    "from transformers import BertForSequenceClassification, BertTokenizer\n",
    "from transformers import EarlyStoppingCallback\n",
    "from transformers import Trainer, TrainingArguments"
   ]
  },
  {
   "cell_type": "code",
   "execution_count": 2,
   "metadata": {},
   "outputs": [],
   "source": [
    "sen = sentiment(\"restaurant-reviews.csv\", \"title\", \"text\", \"rating\")"
   ]
  },
  {
   "cell_type": "code",
   "execution_count": 3,
   "metadata": {},
   "outputs": [],
   "source": [
    "checkpoint = \"nlptown/bert-base-multilingual-uncased-sentiment\"\n",
    "tokenizer = BertTokenizer.from_pretrained(checkpoint)\n",
    "model = BertForSequenceClassification.from_pretrained(\n",
    "    checkpoint,\n",
    "    num_labels = 5,\n",
    "    id2label = {\n",
    "        0: \"1 star\",\n",
    "        1: \"2 stars\",\n",
    "        2: \"3 stars\",\n",
    "        3: \"4 stars\",\n",
    "        4: \"5 stars\"\n",
    "    },\n",
    "    label2id = {\n",
    "        \"1 star\": 0,\n",
    "        \"2 stars\": 1,\n",
    "        \"3 stars\": 2,\n",
    "        \"4 stars\": 3,\n",
    "        \"5 stars\": 4\n",
    "    }\n",
    ")"
   ]
  },
  {
   "cell_type": "code",
   "execution_count": 4,
   "metadata": {},
   "outputs": [],
   "source": [
    "X = [sen.bert_prep(text_type) for text_type in [sen.title, sen.text]]\n",
    "X = [f\"{title}. {text}\" for title, text in zip(X[0], X[1])]\n",
    "y = list(sen.score - 1)"
   ]
  },
  {
   "cell_type": "code",
   "execution_count": 5,
   "metadata": {},
   "outputs": [],
   "source": [
    "X_train, X_val, y_train, y_val = train_test_split(X, \n",
    "                                                  y, \n",
    "                                                  test_size = 0.2,\n",
    "                                                  random_state = 42,\n",
    "                                                  shuffle = True,\n",
    "                                                  stratify = y)\n",
    "X_train_tokenized = tokenizer(X_train, padding = True, truncation = True, max_length = 512)\n",
    "X_val_tokenized = tokenizer(X_val, padding = True, truncation = True, max_length = 512)"
   ]
  },
  {
   "cell_type": "code",
   "execution_count": 6,
   "metadata": {},
   "outputs": [],
   "source": [
    "train_dataset = dataset(X_train_tokenized, y_train)\n",
    "val_dataset = dataset(X_val_tokenized, y_val)"
   ]
  },
  {
   "cell_type": "code",
   "execution_count": 7,
   "metadata": {},
   "outputs": [],
   "source": [
    "model_name = \"bert-base-multilingual-uncased-finetuned-sentiment\"\n",
    "args = TrainingArguments(\n",
    "    output_dir = model_name,\n",
    "    num_train_epochs = 8, \n",
    "    per_device_train_batch_size = 2,\n",
    "    per_device_eval_batch_size = 2,\n",
    "    logging_strategy = \"epoch\",\n",
    "    evaluation_strategy = \"epoch\",\n",
    "    save_strategy = \"epoch\",\n",
    "    save_total_limit = 3, \n",
    "    learning_rate = 2e-5,\n",
    "    weight_decay = 0.01,\n",
    "    warmup_ratio = 0.1,\n",
    "    load_best_model_at_end = True,\n",
    "    metric_for_best_model = \"balanced_accuracy\"\n",
    ")"
   ]
  },
  {
   "cell_type": "code",
   "execution_count": 8,
   "metadata": {},
   "outputs": [],
   "source": [
    "trainer = Trainer(\n",
    "    model = model,\n",
    "    args = args,\n",
    "    train_dataset = train_dataset,\n",
    "    eval_dataset = val_dataset,\n",
    "    tokenizer = tokenizer,\n",
    "    compute_metrics = compute_metrics,\n",
    "    callbacks = [EarlyStoppingCallback(early_stopping_patience = 3)]\n",
    ")"
   ]
  },
  {
   "cell_type": "code",
   "execution_count": 9,
   "metadata": {},
   "outputs": [
    {
     "data": {
      "application/vnd.jupyter.widget-view+json": {
       "model_id": "1c10d44e9c8042da9b87a8ab6390f1b8",
       "version_major": 2,
       "version_minor": 0
      },
      "text/plain": [
       "  0%|          | 0/3200 [00:00<?, ?it/s]"
      ]
     },
     "metadata": {},
     "output_type": "display_data"
    },
    {
     "name": "stdout",
     "output_type": "stream",
     "text": [
      "{'loss': 0.9462, 'learning_rate': 1.9444444444444445e-05, 'epoch': 1.0}\n"
     ]
    },
    {
     "data": {
      "application/vnd.jupyter.widget-view+json": {
       "model_id": "e2decec39bed4b5eb917d9d13e75c790",
       "version_major": 2,
       "version_minor": 0
      },
      "text/plain": [
       "  0%|          | 0/100 [00:00<?, ?it/s]"
      ]
     },
     "metadata": {},
     "output_type": "display_data"
    },
    {
     "name": "stdout",
     "output_type": "stream",
     "text": [
      "{'eval_loss': 1.0949993133544922, 'eval_balanced_accuracy': 0.4680758957354702, 'eval_runtime': 331.6132, 'eval_samples_per_second': 0.603, 'eval_steps_per_second': 0.302, 'epoch': 1.0}\n",
      "{'loss': 0.9294, 'learning_rate': 1.6666666666666667e-05, 'epoch': 2.0}\n"
     ]
    },
    {
     "data": {
      "application/vnd.jupyter.widget-view+json": {
       "model_id": "c7fd923d8fd74e5f92df927c64440f9b",
       "version_major": 2,
       "version_minor": 0
      },
      "text/plain": [
       "  0%|          | 0/100 [00:00<?, ?it/s]"
      ]
     },
     "metadata": {},
     "output_type": "display_data"
    },
    {
     "name": "stdout",
     "output_type": "stream",
     "text": [
      "{'eval_loss': 0.9042006731033325, 'eval_balanced_accuracy': 0.6755549415123883, 'eval_runtime': 326.2146, 'eval_samples_per_second': 0.613, 'eval_steps_per_second': 0.307, 'epoch': 2.0}\n",
      "{'loss': 0.611, 'learning_rate': 1.388888888888889e-05, 'epoch': 3.0}\n"
     ]
    },
    {
     "data": {
      "application/vnd.jupyter.widget-view+json": {
       "model_id": "38860960716c4c3c9df5f66b048fa17b",
       "version_major": 2,
       "version_minor": 0
      },
      "text/plain": [
       "  0%|          | 0/100 [00:00<?, ?it/s]"
      ]
     },
     "metadata": {},
     "output_type": "display_data"
    },
    {
     "name": "stdout",
     "output_type": "stream",
     "text": [
      "{'eval_loss': 1.4170660972595215, 'eval_balanced_accuracy': 0.6323017408123791, 'eval_runtime': 322.2859, 'eval_samples_per_second': 0.621, 'eval_steps_per_second': 0.31, 'epoch': 3.0}\n",
      "{'loss': 0.333, 'learning_rate': 1.1111111111111113e-05, 'epoch': 4.0}\n"
     ]
    },
    {
     "data": {
      "application/vnd.jupyter.widget-view+json": {
       "model_id": "6035385e79fc49fd84282120d490a6f6",
       "version_major": 2,
       "version_minor": 0
      },
      "text/plain": [
       "  0%|          | 0/100 [00:00<?, ?it/s]"
      ]
     },
     "metadata": {},
     "output_type": "display_data"
    },
    {
     "name": "stdout",
     "output_type": "stream",
     "text": [
      "{'eval_loss': 1.6647740602493286, 'eval_balanced_accuracy': 0.6791563046882196, 'eval_runtime': 328.8235, 'eval_samples_per_second': 0.608, 'eval_steps_per_second': 0.304, 'epoch': 4.0}\n",
      "{'loss': 0.1179, 'learning_rate': 8.333333333333334e-06, 'epoch': 5.0}\n"
     ]
    },
    {
     "data": {
      "application/vnd.jupyter.widget-view+json": {
       "model_id": "8954ae15c1a049eea39edd0ecb809a01",
       "version_major": 2,
       "version_minor": 0
      },
      "text/plain": [
       "  0%|          | 0/100 [00:00<?, ?it/s]"
      ]
     },
     "metadata": {},
     "output_type": "display_data"
    },
    {
     "name": "stdout",
     "output_type": "stream",
     "text": [
      "{'eval_loss': 2.055690050125122, 'eval_balanced_accuracy': 0.6242953854655982, 'eval_runtime': 324.8824, 'eval_samples_per_second': 0.616, 'eval_steps_per_second': 0.308, 'epoch': 5.0}\n",
      "{'loss': 0.0583, 'learning_rate': 5.555555555555557e-06, 'epoch': 6.0}\n"
     ]
    },
    {
     "data": {
      "application/vnd.jupyter.widget-view+json": {
       "model_id": "391804deb2844e70a2e9160230bae003",
       "version_major": 2,
       "version_minor": 0
      },
      "text/plain": [
       "  0%|          | 0/100 [00:00<?, ?it/s]"
      ]
     },
     "metadata": {},
     "output_type": "display_data"
    },
    {
     "name": "stdout",
     "output_type": "stream",
     "text": [
      "{'eval_loss': 2.0643770694732666, 'eval_balanced_accuracy': 0.632619508151423, 'eval_runtime': 324.1539, 'eval_samples_per_second': 0.617, 'eval_steps_per_second': 0.308, 'epoch': 6.0}\n",
      "{'loss': 0.0182, 'learning_rate': 2.7777777777777783e-06, 'epoch': 7.0}\n"
     ]
    },
    {
     "data": {
      "application/vnd.jupyter.widget-view+json": {
       "model_id": "dab49a5359e340c0966a87cc318a4a8c",
       "version_major": 2,
       "version_minor": 0
      },
      "text/plain": [
       "  0%|          | 0/100 [00:00<?, ?it/s]"
      ]
     },
     "metadata": {},
     "output_type": "display_data"
    },
    {
     "name": "stdout",
     "output_type": "stream",
     "text": [
      "{'eval_loss': 2.15651273727417, 'eval_balanced_accuracy': 0.6078060237634706, 'eval_runtime': 325.4384, 'eval_samples_per_second': 0.615, 'eval_steps_per_second': 0.307, 'epoch': 7.0}\n",
      "{'train_runtime': 35864.9006, 'train_samples_per_second': 0.178, 'train_steps_per_second': 0.089, 'train_loss': 0.4305599107061114, 'epoch': 7.0}\n"
     ]
    },
    {
     "data": {
      "text/plain": [
       "TrainOutput(global_step=2800, training_loss=0.4305599107061114, metrics={'train_runtime': 35864.9006, 'train_samples_per_second': 0.178, 'train_steps_per_second': 0.089, 'train_loss': 0.4305599107061114, 'epoch': 7.0})"
      ]
     },
     "execution_count": 9,
     "metadata": {},
     "output_type": "execute_result"
    }
   ],
   "source": [
    "trainer.train()"
   ]
  },
  {
   "cell_type": "code",
   "execution_count": 10,
   "metadata": {},
   "outputs": [
    {
     "data": {
      "application/vnd.jupyter.widget-view+json": {
       "model_id": "281f336fad814b17866d6635a3230c1a",
       "version_major": 2,
       "version_minor": 0
      },
      "text/plain": [
       "  0%|          | 0/100 [00:00<?, ?it/s]"
      ]
     },
     "metadata": {},
     "output_type": "display_data"
    },
    {
     "data": {
      "text/plain": [
       "{'eval_loss': 1.6647740602493286,\n",
       " 'eval_balanced_accuracy': 0.6791563046882196,\n",
       " 'eval_runtime': 316.8158,\n",
       " 'eval_samples_per_second': 0.631,\n",
       " 'eval_steps_per_second': 0.316,\n",
       " 'epoch': 7.0}"
      ]
     },
     "execution_count": 10,
     "metadata": {},
     "output_type": "execute_result"
    }
   ],
   "source": [
    "trainer.evaluate()"
   ]
  },
  {
   "cell_type": "code",
   "execution_count": 11,
   "metadata": {},
   "outputs": [],
   "source": [
    "trainer.save_model(model_name)"
   ]
  }
 ],
 "metadata": {
  "kernelspec": {
   "display_name": "Python 3",
   "language": "python",
   "name": "python3"
  },
  "language_info": {
   "codemirror_mode": {
    "name": "ipython",
    "version": 3
   },
   "file_extension": ".py",
   "mimetype": "text/x-python",
   "name": "python",
   "nbconvert_exporter": "python",
   "pygments_lexer": "ipython3",
   "version": "3.11.2"
  }
 },
 "nbformat": 4,
 "nbformat_minor": 2
}
